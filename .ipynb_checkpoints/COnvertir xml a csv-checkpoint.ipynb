{
 "cells": [
  {
   "cell_type": "code",
   "execution_count": 1,
   "id": "e4e80ec6",
   "metadata": {},
   "outputs": [],
   "source": [
    "import xml.etree.ElementTree as Xet \n",
    "import pandas as pd"
   ]
  },
  {
   "cell_type": "code",
   "execution_count": 2,
   "id": "2c1b1f74",
   "metadata": {},
   "outputs": [],
   "source": [
    "cols = [\"tweetid\", \"user\", \"content\", \"date\", \"lang\", \"sentiment\"] \n",
    "rows = [] "
   ]
  },
  {
   "cell_type": "code",
   "execution_count": 3,
   "id": "c8698c18",
   "metadata": {},
   "outputs": [],
   "source": [
    "xmlparse = Xet.parse('dataXML/TASS2019_country_CR_train.xml') \n",
    "root = xmlparse.getroot() \n",
    "for i in root: \n",
    "    tweetid = i.find(\"tweetid\").text if i is not None else None\n",
    "    user = i.find(\"user\").text if i is not None else None\n",
    "    content = i.find(\"content\").text if i is not None else None\n",
    "    date = i.find(\"date\").text if i is not None else None\n",
    "    lang = i.find(\"lang\").text if i is not None else None\n",
    "    sentiment = i.find(\"sentiment\").find(\"polarity\").find(\"value\").text if i is not None else None\n",
    "  \n",
    "    rows.append({\"tweetid\": tweetid, \n",
    "                 \"user\": user, \n",
    "                 \"content\": content, \n",
    "                 \"date\": date, \n",
    "                 \"lang\": lang,\n",
    "                 \"sentiment\": sentiment  }) \n",
    "  \n",
    "df = pd.DataFrame(rows, columns=cols) \n",
    "  \n",
    "df.to_csv('dataCSV/TASS2019_country_CR_train.csv') "
   ]
  },
  {
   "cell_type": "code",
   "execution_count": null,
   "id": "eea2c82c",
   "metadata": {},
   "outputs": [],
   "source": []
  }
 ],
 "metadata": {
  "kernelspec": {
   "display_name": "Python 3 (ipykernel)",
   "language": "python",
   "name": "python3"
  },
  "language_info": {
   "codemirror_mode": {
    "name": "ipython",
    "version": 3
   },
   "file_extension": ".py",
   "mimetype": "text/x-python",
   "name": "python",
   "nbconvert_exporter": "python",
   "pygments_lexer": "ipython3",
   "version": "3.10.4"
  }
 },
 "nbformat": 4,
 "nbformat_minor": 5
}
