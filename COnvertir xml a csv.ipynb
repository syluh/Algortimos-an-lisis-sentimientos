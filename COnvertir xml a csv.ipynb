{
 "cells": [
  {
   "cell_type": "code",
   "execution_count": 4,
   "id": "e4e80ec6",
   "metadata": {},
   "outputs": [],
   "source": [
    "import xml.etree.ElementTree as Xet \n",
    "import pandas as pd"
   ]
  },
  {
   "cell_type": "markdown",
   "id": "8bdbdc07",
   "metadata": {},
   "source": [
    "# TASS2019_country_CR_train"
   ]
  },
  {
   "cell_type": "code",
   "execution_count": 2,
   "id": "2c1b1f74",
   "metadata": {},
   "outputs": [],
   "source": [
    "cols = [\"tweetid\", \"user\", \"content\", \"date\", \"lang\", \"sentiment\"] \n",
    "rows = [] "
   ]
  },
  {
   "cell_type": "code",
   "execution_count": 3,
   "id": "c8698c18",
   "metadata": {},
   "outputs": [],
   "source": [
    "xmlparse = Xet.parse('dataXML/TASS2019_country_CR_train.xml') \n",
    "root = xmlparse.getroot() \n",
    "for i in root: \n",
    "    tweetid = i.find(\"tweetid\").text if i is not None else None\n",
    "    user = i.find(\"user\").text if i is not None else None\n",
    "    content = i.find(\"content\").text if i is not None else None\n",
    "    date = i.find(\"date\").text if i is not None else None\n",
    "    lang = i.find(\"lang\").text if i is not None else None\n",
    "    sentiment = i.find(\"sentiment\").find(\"polarity\").find(\"value\").text if i is not None else None\n",
    "  \n",
    "    rows.append({\"tweetid\": tweetid, \n",
    "                 \"user\": user, \n",
    "                 \"content\": content, \n",
    "                 \"date\": date, \n",
    "                 \"lang\": lang,\n",
    "                 \"sentiment\": sentiment  }) \n",
    "  \n",
    "df = pd.DataFrame(rows, columns=cols) \n",
    "  \n",
    "df.to_csv('dataCSV/TASS2019_country_CR_train.csv') "
   ]
  },
  {
   "cell_type": "markdown",
   "id": "5e4ed4d7",
   "metadata": {},
   "source": [
    "# TASS2019_country_MX_train"
   ]
  },
  {
   "cell_type": "code",
   "execution_count": 11,
   "id": "150d83d3",
   "metadata": {},
   "outputs": [],
   "source": [
    "cols = [\"tweetid\",\"user\",\"content\",\"date\",\"lang\",\"sentiment\"] \n",
    "rows = []"
   ]
  },
  {
   "cell_type": "code",
   "execution_count": 12,
   "id": "4e1b71bd",
   "metadata": {},
   "outputs": [],
   "source": [
    "xmlparse = Xet.parse('dataXML/TASS2019_country_MX_train.xml') \n",
    "root = xmlparse.getroot() \n",
    "for i in root: \n",
    "    tweetid = i.find(\"tweetid\").text if i is not None else None\n",
    "    user = i.find(\"user\").text if i is not None else None\n",
    "    content = i.find(\"content\").text if i is not None else None\n",
    "    date = i.find(\"date\").text if i is not None else None\n",
    "    lang = i.find(\"lang\").text if i is not None else None\n",
    "    sentiment = i.find(\"sentiment\").find(\"polarity\").find(\"value\").text if i is not None else None\n",
    "  \n",
    "    rows.append({\"tweetid\": tweetid, \n",
    "                 \"user\": user, \n",
    "                 \"content\": content, \n",
    "                 \"date\": date, \n",
    "                 \"lang\": lang,\n",
    "                 \"sentiment\": sentiment  }) \n",
    "  \n",
    "df = pd.DataFrame(rows, columns=cols) \n",
    "  \n",
    "df.to_csv('dataCSV/TASS2019_country_MX_train.csv') "
   ]
  },
  {
   "cell_type": "markdown",
   "id": "ea988ee1",
   "metadata": {},
   "source": [
    "# TASS2019_country_PE_train"
   ]
  },
  {
   "cell_type": "code",
   "execution_count": 14,
   "id": "bdfe8e7a",
   "metadata": {},
   "outputs": [],
   "source": [
    "cols = [\"tweetid\",\"user\",\"content\",\"date\",\"lang\",\"sentiment\"] \n",
    "rows = []"
   ]
  },
  {
   "cell_type": "code",
   "execution_count": 15,
   "id": "68fad464",
   "metadata": {},
   "outputs": [],
   "source": [
    "xmlparse = Xet.parse('dataXML/TASS2019_country_PE_train.xml') \n",
    "root = xmlparse.getroot() \n",
    "for i in root: \n",
    "    tweetid = i.find(\"tweetid\").text if i is not None else None\n",
    "    user = i.find(\"user\").text if i is not None else None\n",
    "    content = i.find(\"content\").text if i is not None else None\n",
    "    date = i.find(\"date\").text if i is not None else None\n",
    "    lang = i.find(\"lang\").text if i is not None else None\n",
    "    sentiment = i.find(\"sentiment\").find(\"polarity\").find(\"value\").text if i is not None else None\n",
    "  \n",
    "    rows.append({\"tweetid\": tweetid, \n",
    "                 \"user\": user, \n",
    "                 \"content\": content, \n",
    "                 \"date\": date, \n",
    "                 \"lang\": lang,\n",
    "                 \"sentiment\": sentiment  }) \n",
    "  \n",
    "df = pd.DataFrame(rows, columns=cols) \n",
    "  \n",
    "df.to_csv('dataCSV/TASS2019_country_PE_train.csv') "
   ]
  },
  {
   "cell_type": "markdown",
   "id": "c391e5bd",
   "metadata": {},
   "source": [
    "# TASS2019_country_UY_train"
   ]
  },
  {
   "cell_type": "code",
   "execution_count": 16,
   "id": "9c3cb800",
   "metadata": {},
   "outputs": [],
   "source": [
    "cols = [\"tweetid\",\"user\",\"content\",\"date\",\"lang\",\"sentiment\"] \n",
    "rows = []"
   ]
  },
  {
   "cell_type": "code",
   "execution_count": 17,
   "id": "5a297c47",
   "metadata": {},
   "outputs": [],
   "source": [
    "xmlparse = Xet.parse('dataXML/TASS2019_country_UY_train.xml') \n",
    "root = xmlparse.getroot() \n",
    "for i in root: \n",
    "    tweetid = i.find(\"tweetid\").text if i is not None else None\n",
    "    user = i.find(\"user\").text if i is not None else None\n",
    "    content = i.find(\"content\").text if i is not None else None\n",
    "    date = i.find(\"date\").text if i is not None else None\n",
    "    lang = i.find(\"lang\").text if i is not None else None\n",
    "    sentiment = i.find(\"sentiment\").find(\"polarity\").find(\"value\").text if i is not None else None\n",
    "  \n",
    "    rows.append({\"tweetid\": tweetid, \n",
    "                 \"user\": user, \n",
    "                 \"content\": content, \n",
    "                 \"date\": date, \n",
    "                 \"lang\": lang,\n",
    "                 \"sentiment\": sentiment  }) \n",
    "  \n",
    "df = pd.DataFrame(rows, columns=cols) \n",
    "  \n",
    "df.to_csv('dataCSV/TASS2019_country_UY_train.csv') "
   ]
  },
  {
   "cell_type": "code",
   "execution_count": null,
   "id": "3377cf02",
   "metadata": {},
   "outputs": [],
   "source": []
  }
 ],
 "metadata": {
  "kernelspec": {
   "display_name": "Python 3 (ipykernel)",
   "language": "python",
   "name": "python3"
  },
  "language_info": {
   "codemirror_mode": {
    "name": "ipython",
    "version": 3
   },
   "file_extension": ".py",
   "mimetype": "text/x-python",
   "name": "python",
   "nbconvert_exporter": "python",
   "pygments_lexer": "ipython3",
   "version": "3.10.4"
  }
 },
 "nbformat": 4,
 "nbformat_minor": 5
}
